{
 "cells": [
  {
   "cell_type": "code",
   "execution_count": null,
   "metadata": {},
   "outputs": [],
   "source": [
    "import numpy as np"
   ]
  },
  {
   "cell_type": "code",
   "execution_count": null,
   "metadata": {},
   "outputs": [],
   "source": [
    "def conjugate_gradient(A, b, x0, tol=1e-6, max_iter=1000):\n",
    "    x = x0\n",
    "    r = b - A @ x\n",
    "    d = r.copy()\n",
    "    iterations = 0\n",
    "    \n",
    "    for k in range(max_iter):\n",
    "        alpha = np.dot(r, r) / np.dot(d, A @ d)\n",
    "        x = x + alpha * d\n",
    "        r_prev = r\n",
    "        r = r - alpha * A @ d\n",
    "        beta = np.dot(r, r) / np.dot(r_prev, r_prev)\n",
    "        d = r + beta * d\n",
    "        iterations += 1\n",
    "        \n",
    "        if np.linalg.norm(r) < tol:\n",
    "            break\n",
    "            \n",
    "    return x, iterations\n",
    "\n",
    "\n"
   ]
  },
  {
   "cell_type": "code",
   "execution_count": null,
   "metadata": {},
   "outputs": [],
   "source": [
    "def gauss_seidel(A, b, x0=None, tol=1e-6, max_iter=1000):\n",
    "    b_size = len(b)\n",
    "    if x0 is None:\n",
    "        x = np.zeros(b_size)\n",
    "    else:\n",
    "        x = x0.copy()\n",
    "    iterations = 0\n",
    "    \n",
    "    for _ in range(max_iter):\n",
    "        x_new = np.zeros_like(x)\n",
    "        for i in range(b_size):\n",
    "            x_new[i] = (b[i] - np.dot(A[i, :i], x_new[:i]) - np.dot(A[i, i+1:], x[i+1:])) / A[i, i]\n",
    "        \n",
    "        iterations += 1\n",
    "        if np.linalg.norm(x_new - x) < tol:\n",
    "            break\n",
    "        \n",
    "        x = x_new.copy()\n",
    "    \n",
    "    return x, iterations"
   ]
  },
  {
   "cell_type": "code",
   "execution_count": null,
   "metadata": {},
   "outputs": [
    {
     "name": "stdout",
     "output_type": "stream",
     "text": [
      "Solution using Conjugate Gradient method: [ 3.  4. -5.]\n",
      "Iterations till convergence: 3\n",
      "Solution using Gauss-Seidel method with initial guess [0, 0, 0]: [ 3  4 -5]\n",
      "Iterations till convergence: 3\n"
     ]
    }
   ],
   "source": [
    "# Given system of linear equations\n",
    "A = np.array([[4, 3, 0],\n",
    "              [3, 4, -1],\n",
    "              [0, -1, 4]])\n",
    "b = np.array([24, 30, -24])\n",
    "x0 = np.zeros_like(b)\n",
    "\n",
    "\n",
    "x_cg, no_cg = conjugate_gradient(A, b, x0)\n",
    "\n",
    "print(f\"Solution using Conjugate Gradient method: {x_cg}\")\n",
    "print(f\"Iterations till convergence: {no_cg}\")\n",
    "\n",
    "# Solve using Gauss-Seidel method\n",
    "x_gs, no_gs = gauss_seidel(A, b, x0)\n",
    "\n",
    "print(f\"Solution using Gauss-Seidel method with initial guess [0, 0, 0]: {x_gs}\")\n",
    "print(f\"Iterations till convergence: {no_gs}\")"
   ]
  },
  {
   "cell_type": "code",
   "execution_count": null,
   "metadata": {},
   "outputs": [],
   "source": [
    "def jacobi(A, b, x0=None, tol=1e-6, max_iter=1000):\n",
    "    n = len(b)\n",
    "    if x0 is None:\n",
    "        x = np.zeros(n)\n",
    "    else:\n",
    "        x = x0.copy()\n",
    "    D = np.diag(np.diag(A))\n",
    "    R = A - D\n",
    "    iterations = 0\n",
    "    \n",
    "    for _ in range(max_iter):\n",
    "        x_new = np.linalg.solve(D, b - R @ x)\n",
    "        \n",
    "        iterations += 1\n",
    "        if np.linalg.norm(x_new - x) < tol:\n",
    "            break\n",
    "        \n",
    "        x = x_new.copy()\n",
    "    \n",
    "    return x, iterations"
   ]
  },
  {
   "cell_type": "code",
   "execution_count": null,
   "metadata": {},
   "outputs": [],
   "source": [
    "def preconditioned_conjugate_gradient(A, b, x0, M, tol=1e-6, max_iter=1000):\n",
    "    M_inv = np.linalg.inv(M)\n",
    "    A_hat = M_inv @ A\n",
    "    b_hat = M_inv @ b\n",
    "    x = x0\n",
    "    r = b_hat - A_hat @ x\n",
    "    p = r.copy()\n",
    "    iterations = 0\n",
    "    \n",
    "    for k in range(max_iter):\n",
    "        alpha = np.dot(r, r) / np.dot(p, A_hat @ p)\n",
    "        x = x + alpha * p\n",
    "        r_prev = r\n",
    "        r = r - alpha * A_hat @ p\n",
    "        beta = np.dot(r, r) / np.dot(r_prev, r_prev)\n",
    "        p = r + beta * p\n",
    "        iterations += 1\n",
    "        \n",
    "        if np.linalg.norm(r) < tol:\n",
    "            break\n",
    "            \n",
    "    return x, iterations"
   ]
  },
  {
   "cell_type": "code",
   "execution_count": null,
   "metadata": {},
   "outputs": [
    {
     "name": "stdout",
     "output_type": "stream",
     "text": [
      "Condition number of A: 12265.15914047122\n",
      "Condition number of preconditioned matrix M_inv_A: 190.1388738145228\n",
      "Method              Solution                                                    Iterations\n",
      "Jacobi              [ 7.85971354  0.42292644 -0.07359223 -0.54064295  0.01062616]  122\n",
      "Gauss-Seidel        [5 0 0 0 0]    2\n",
      "Conjugate Gradient  [ 7.85971308  0.42292641 -0.07359224 -0.54064302  0.01062616]   5\n",
      "Preconditioned CG   [-1.87999649e+17  1.30644034e+17  3.74723597e+16  9.30179732e+17\n",
      " -4.86467391e+16]   1000\n"
     ]
    }
   ],
   "source": [
    "\n",
    "# Given matrix\n",
    "A = np.array([[0.2, 0.1, 1, 1, 0],\n",
    "              [0.1, 4, -1, 1, -1],\n",
    "              [1, -1, 60, 0, -2],\n",
    "              [1, 1, 0, 8, 4],\n",
    "              [0, -1, -2, 4, 700]])\n",
    "\n",
    "# Right-hand side vector\n",
    "b = np.array([1, 2,  3, 4, 5])\n",
    "\n",
    "# Preconditioning matrix (Example: Diagonal matrix with the diagonal of A)\n",
    "M = np.diag(np.diag(A))\n",
    "\n",
    "# Condition number of A\n",
    "cond_A = np.linalg.cond(A)\n",
    "\n",
    "# Preconditioned matrix\n",
    "M_inv_A = np.linalg.inv(M) @ A\n",
    "\n",
    "# Condition number of M_inv_A\n",
    "cond_M_inv_A = np.linalg.cond(M_inv_A)\n",
    "\n",
    "\n",
    "# Displaying results\n",
    "print(f\"Condition number of A: {cond_A}\")\n",
    "print(f\"Condition number of preconditioned matrix M_inv_A: {cond_M_inv_A}\")\n",
    "\n",
    "\n",
    "# Initial guess\n",
    "x0 = np.zeros_like(b)\n",
    "\n",
    "# Solving using different methods\n",
    "x_jacobi, no_jacobi = jacobi(A, b, x0)\n",
    "x_gs, no_gs = gauss_seidel(A, b, x0)\n",
    "x_cg, no_cg = conjugate_gradient(A, b, x0)\n",
    "x_pcg, no_pcg = preconditioned_conjugate_gradient(A, b, x0, M)\n",
    "\n",
    "\n",
    "print(\"Method              Solution                                                    Iterations\")\n",
    "print(f\"Jacobi              {x_jacobi}  {no_jacobi}\")\n",
    "print(f\"Gauss-Seidel        {x_gs}    {no_gs}\")\n",
    "print(f\"Conjugate Gradient  {x_cg}   {no_cg}\")\n",
    "print(f\"Preconditioned CG   {x_pcg}   {no_pcg}\")"
   ]
  },
  {
   "cell_type": "markdown",
   "metadata": {},
   "source": [
    "Ques3\n"
   ]
  },
  {
   "cell_type": "code",
   "execution_count": null,
   "metadata": {},
   "outputs": [
    {
     "name": "stdout",
     "output_type": "stream",
     "text": [
      "[0 0 0 0 0 0 0 0 0 0 0 0 0 0 0 0]\n",
      "Convergence Table:\n",
      "Method                           Solution              Iterations\n",
      "CG (without preconditioning)    [2.55833333 4.08636364 4.59545455 3.63106061 5.1469697  7.19166667\n",
      " 7.66439394 5.92878788 5.83787879 5.86893939 5.94166667 4.41969697\n",
      " 3.33560606 4.50454545 4.81363636 3.80833333]   9\n",
      "PCG (with preconditioning)       [2.55833333 4.08636364 4.59545455 3.63106061 5.1469697  7.19166667\n",
      " 7.66439394 5.92878788 5.83787879 5.86893939 5.94166667 4.41969697\n",
      " 3.33560606 4.50454545 4.81363636 3.80833333]   9\n"
     ]
    }
   ],
   "source": [
    "\n",
    "# Given matrices\n",
    "A1 = np.array([[4, -1,0,0],\n",
    "                [-1, 4,-1,0],\n",
    "                [0, -1,4,-1],\n",
    "                [0, 0,-1,4]])\n",
    "O = np.zeros((4, 4))\n",
    "I= np.eye(4)\n",
    "\n",
    "\n",
    "A = np.block([[A1,-I,O,O],\n",
    "              [-I,A1,-I,O],\n",
    "              [O,-I,A1,-I],\n",
    "              [O,O,-I,A1]])\n",
    "\n",
    "\n",
    "# Right-hand side vector\n",
    "b = np.array([1,2,3,4,5,6,7,8,9,0,1,2,3,4,5,6])\n",
    "\n",
    "# Preconditioning matrix (Example: Diagonal matrix with the diagonal of A1)\n",
    "M = np.diag(np.diag(A))\n",
    "\n",
    "# Initial guess\n",
    "x0 = np.zeros_like(b)\n",
    "print(x0)\n",
    "# Solving using Conjugate Gradient method without preconditioning\n",
    "x_cg, no_cg = conjugate_gradient(A, b, x0)\n",
    "\n",
    "# Solving using Conjugate Gradient method with preconditioning\n",
    "x_pcg, no_pcg = preconditioned_conjugate_gradient(A, b, x0, M)\n",
    "\n",
    "# Displaying results\n",
    "print(\"Convergence Table:\")\n",
    "print(\"Method                           Solution              Iterations\")\n",
    "print(f\"CG (without preconditioning)    {x_cg}   {no_cg}\")\n",
    "print(f\"PCG (with preconditioning)       {x_pcg}   {no_pcg}\")\n"
   ]
  }
 ],
 "metadata": {
  "kernelspec": {
   "display_name": "Python 3",
   "language": "python",
   "name": "python3"
  },
  "language_info": {
   "codemirror_mode": {
    "name": "ipython",
    "version": 3
   },
   "file_extension": ".py",
   "mimetype": "text/x-python",
   "name": "python",
   "nbconvert_exporter": "python",
   "pygments_lexer": "ipython3",
   "version": "3.8.10"
  }
 },
 "nbformat": 4,
 "nbformat_minor": 2
}
