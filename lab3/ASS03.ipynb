{
  "cells": [
    {
      "cell_type": "code",
      "execution_count": 1,
      "metadata": {
        "id": "wYvp3eVeeCXr"
      },
      "outputs": [],
      "source": [
        "import numpy as np\n",
        "import math"
      ]
    },
    {
      "cell_type": "markdown",
      "metadata": {
        "id": "x05eRKZipLlp"
      },
      "source": [
        "**Question01**"
      ]
    },
    {
      "cell_type": "code",
      "execution_count": 2,
      "metadata": {
        "id": "fUxXNnI9iZ3m"
      },
      "outputs": [],
      "source": [
        "def power_method(matrix, max_iterations=1000, tolerance=1e-6):\n",
        "    n = len(matrix)\n",
        "    x = np.ones(n)  # Initial guess for the eigenvector\n",
        "    eigenvalue_old = 0\n",
        "\n",
        "    for _ in range(max_iterations):\n",
        "        x = np.dot(matrix, x)\n",
        "        eigenvalue = np.max(x)\n",
        "        x = x / eigenvalue  # Normalize the eigenvector\n",
        "\n",
        "        if np.abs(eigenvalue - eigenvalue_old) < tolerance:\n",
        "            break\n",
        "\n",
        "        eigenvalue_old = eigenvalue\n",
        "\n",
        "    return eigenvalue, x"
      ]
    },
    {
      "cell_type": "code",
      "execution_count": 40,
      "metadata": {},
      "outputs": [],
      "source": [
        "def power_method2(matrix, max_iterations=1000, tolerance=1e-6):\n",
        "    n = len(matrix)\n",
        "    x = np.ones(n)  # Initial guess for the eigenvector\n",
        "    eigenvalue_old = 0\n",
        "\n",
        "    for _ in range(max_iterations):\n",
        "        x = np.dot(matrix, x)\n",
        "        eigenvalue = np.linalg.norm(x)\n",
        "        x = x / eigenvalue  # Normalize the eigenvector\n",
        "\n",
        "        if np.abs(eigenvalue - eigenvalue_old) < tolerance:\n",
        "            break\n",
        "\n",
        "        eigenvalue_old = eigenvalue\n",
        "\n",
        "    return eigenvalue, x"
      ]
    },
    {
      "cell_type": "code",
      "execution_count": 3,
      "metadata": {},
      "outputs": [],
      "source": [
        "def generate_symmetric_matrix(n):\n",
        "    upper_triangular = np.random.rand(n, n)\n",
        "    symmetric_matrix = np.triu(upper_triangular) + np.triu(upper_triangular, 1).T\n",
        "    return symmetric_matrix"
      ]
    },
    {
      "cell_type": "code",
      "execution_count": 13,
      "metadata": {
        "colab": {
          "base_uri": "https://localhost:8080/"
        },
        "id": "PNZlSAd0k6K6",
        "outputId": "54d1e09e-5a62-4a41-a30c-9d7f7f94b653"
      },
      "outputs": [
        {
          "name": "stdout",
          "output_type": "stream",
          "text": [
            "eigen value  14.999999754240006\n",
            "eigen vector  [ 1.         -0.99999999  0.49999999]\n",
            "eigen value  15.000000000000007\n",
            "eigen vector  [-0.66666667  0.66666667 -0.33333333]\n",
            "eigen value  2.178541738132502\n",
            "eigen vector  [0.89032179 1.         0.67333813 0.32257778]\n",
            "eigen value  2.178541804401368\n",
            "eigen vector  [0.58076786 0.65231232 0.43922676 0.21042147]\n"
          ]
        }
      ],
      "source": [
        "#1\n",
        "A = np.array([[8,-6,2],[-6,7,-4],[2,-4,3]])\n",
        "eigenval,eigenvector=power_method(A)\n",
        "print(\"eigen value \",eigenval)\n",
        "print(\"eigen vector \",eigenvector)\n",
        "eigenval,eigenvector=np.linalg.eig(A)\n",
        "print(\"actual eigen value \",max(eigenval))\n",
        "print(\"actual eigen vector \",eigenvector[:,np.argmax(eigenval)])\n",
        "\n",
        "#2\n",
        "A=generate_symmetric_matrix(4)\n",
        "# print(A)\n",
        "eigenval,eigenvector=power_method(A)\n",
        "print(\"eigen value \",eigenval)\n",
        "print(\"eigen vector \",eigenvector)\n",
        "eigenval,eigenvector=np.linalg.eig(A)\n",
        "print(\"actual eigen value \",max(eigenval))\n",
        "print(\"actual eigen vector \",eigenvector[:,np.argmax(eigenval)])\n"
      ]
    },
    {
      "cell_type": "code",
      "execution_count": 41,
      "metadata": {},
      "outputs": [
        {
          "name": "stdout",
          "output_type": "stream",
          "text": [
            "eigen value  14.9999999705088\n",
            "eigen vector  [ 0.6666752 -0.6666624  0.3333248]\n",
            "actual eigen value  15.000000000000007\n",
            "actual eigen vector  [-0.66666667  0.66666667 -0.33333333]\n",
            "eigen value  1.986091207721367\n",
            "eigen vector  [0.61189967 0.36601553 0.58112364 0.39230949]\n",
            "actual eigen value  1.9860912303172575\n",
            "actual eigen vector  [0.61189831 0.36597559 0.58115298 0.39230541]\n"
          ]
        }
      ],
      "source": [
        "#1\n",
        "A = np.array([[8,-6,2],[-6,7,-4],[2,-4,3]])\n",
        "eigenval,eigenvector=power_method2(A)\n",
        "print(\"eigen value \",eigenval)\n",
        "print(\"eigen vector \",eigenvector)\n",
        "eigenval,eigenvector=np.linalg.eig(A)\n",
        "print(\"actual eigen value \",max(eigenval))\n",
        "print(\"actual eigen vector \",eigenvector[:,np.argmax(eigenval)])\n",
        "\n",
        "#2\n",
        "A=generate_symmetric_matrix(4)\n",
        "# print(A)\n",
        "eigenval,eigenvector=power_method2(A)\n",
        "print(\"eigen value \",eigenval)\n",
        "print(\"eigen vector \",eigenvector)\n",
        "eigenval,eigenvector=np.linalg.eig(A)\n",
        "print(\"actual eigen value \",max(eigenval))\n",
        "print(\"actual eigen vector \",eigenvector[:,np.argmax(eigenval)])"
      ]
    },
    {
      "cell_type": "markdown",
      "metadata": {
        "id": "xVjo2alSpATw"
      },
      "source": [
        "**Question 02**\n"
      ]
    },
    {
      "cell_type": "code",
      "execution_count": 15,
      "metadata": {},
      "outputs": [],
      "source": [
        "# Step 1: Construct the adjacency matrix\n",
        "adjacency_matrix = np.array([[0, 1, 0, 1, 1, 1],\n",
        "                             [0, 0, 1, 1, 0, 0],\n",
        "                             [0, 0, 0, 0, 1, 0],\n",
        "                             [0, 0, 0, 0, 1, 0],\n",
        "                             [1, 0, 0, 1, 0, 0],\n",
        "                             [0, 0, 0, 0, 1, 0]])"
      ]
    },
    {
      "cell_type": "code",
      "execution_count": 19,
      "metadata": {
        "colab": {
          "base_uri": "https://localhost:8080/"
        },
        "id": "BDL65n2jpKHZ",
        "outputId": "a1ba5573-a714-4f76-eda5-5786f01b8002"
      },
      "outputs": [
        {
          "name": "stdout",
          "output_type": "stream",
          "text": [
            "[0.68439093 0.27639155 0.26247815 0.26247815 0.49853028 0.26247815]\n"
          ]
        }
      ],
      "source": [
        "eigenvalues, eigenvectors = np.linalg.eig(adjacency_matrix)\n",
        "max_eigenvalue_index = np.argmax(eigenvalues)\n",
        "max_eigenvector = eigenvectors[:, max_eigenvalue_index]\n",
        "\n",
        "print(abs(max_eigenvector))"
      ]
    },
    {
      "cell_type": "code",
      "execution_count": 18,
      "metadata": {},
      "outputs": [
        {
          "name": "stdout",
          "output_type": "stream",
          "text": [
            "[0.34315773 0.18067389 0.09512551 0.61895714 0.65176672 0.18067389]\n"
          ]
        }
      ],
      "source": [
        "eigenvalues, eigenvectors = np.linalg.eig(adjacency_matrix.T)\n",
        "max_eigenvalue_index = np.argmax(eigenvalues)\n",
        "max_eigenvector = eigenvectors[:, max_eigenvalue_index]\n",
        "\n",
        "print(abs(max_eigenvector))"
      ]
    },
    {
      "cell_type": "markdown",
      "metadata": {
        "colab": {
          "base_uri": "https://localhost:8080/"
        },
        "id": "7jUDMuqSyVfp",
        "outputId": "7ec1ab84-0ea0-4464-fef0-8313f3a07c11"
      },
      "source": [
        "from this info we can find which is most easy to access and page where we can access most pages"
      ]
    },
    {
      "cell_type": "markdown",
      "metadata": {
        "id": "I0QjSImh1wdA"
      },
      "source": [
        "**Question03**"
      ]
    },
    {
      "cell_type": "code",
      "execution_count": 28,
      "metadata": {
        "colab": {
          "base_uri": "https://localhost:8080/"
        },
        "id": "MY8s6g6L1u6p",
        "outputId": "2a70cc10-bf1a-41a7-da0a-70d2df9047d1"
      },
      "outputs": [
        {
          "name": "stdout",
          "output_type": "stream",
          "text": [
            "x  -0.013041700007233556\n",
            "f(x)= 0.9871283859318452\n",
            "ittretion  120\n",
            "x  -0.015256985942506676\n",
            "f(x)= 0.9849757896775432\n",
            "ittretion  116\n",
            "x  -0.012925024598880218\n",
            "f(x)= 0.9872420316620014\n",
            "ittretion  113\n"
          ]
        }
      ],
      "source": [
        "a, b, c = 1, 1, 1 \n",
        "def f(x):\n",
        "    global a,b,c\n",
        "    return a * x**2 + b * x + c\n",
        "\n",
        "def gradf(x):\n",
        "    global a,b\n",
        "    return 2*a*x+b\n",
        "\n",
        "def gradient_descent(initial_x):\n",
        "    global a,b,c\n",
        "    learning_rate=0.01\n",
        "    x = initial_x\n",
        "    no_of_itt=0\n",
        "    x0=x\n",
        "    while True:\n",
        "        x = x - learning_rate * gradf(x)\n",
        "        no_of_itt+=1\n",
        "        if(abs(x-x0)<0.01 or no_of_itt>1000):\n",
        "            break\n",
        "        x0=x\n",
        "    return x,no_of_itt\n",
        "\n",
        "def gradient_descent_L1(initial_x,lm):\n",
        "    global a,b,c\n",
        "    learning_rate=0.01\n",
        "    x = initial_x\n",
        "    no_of_itt=0\n",
        "    x0=x\n",
        "    while True:\n",
        "        x = x - learning_rate * (gradf(x)+lm*np.sign(x))\n",
        "        no_of_itt+=1\n",
        "        if(abs(x-x0)<0.01 or no_of_itt>1000):\n",
        "            break\n",
        "        x0=x\n",
        "    return x,no_of_itt\n",
        "\n",
        "def gradient_descent_L2(initial_x,lm):\n",
        "    global a,b,c\n",
        "    learning_rate=0.01\n",
        "    x = initial_x\n",
        "    no_of_itt=0\n",
        "    x0=x\n",
        "    while True:\n",
        "        x = x - learning_rate * (gradf(x)+2*lm*x)\n",
        "        no_of_itt+=1\n",
        "        if(abs(x-x0)<0.01 or no_of_itt>1000):\n",
        "            break\n",
        "        x0=x\n",
        "    return x,no_of_itt\n",
        "\n",
        "x,itt=gradient_descent(5)\n",
        "print(\"x \",x)\n",
        "print(\"f(x)=\",f(x))\n",
        "print(\"ittretion \",itt)\n",
        "\n",
        "x,itt=gradient_descent_L1(5,0.1)\n",
        "print(\"x \",x)\n",
        "print(\"f(x)=\",f(x))\n",
        "print(\"ittretion \",itt)\n",
        "\n",
        "x,itt=gradient_descent_L2(5,0.1)\n",
        "print(\"x \",x)\n",
        "print(\"f(x)=\",f(x))\n",
        "print(\"ittretion \",itt)"
      ]
    },
    {
      "cell_type": "code",
      "execution_count": 36,
      "metadata": {},
      "outputs": [],
      "source": [
        "x=np.array([i/100 for i in range(10)])\n",
        "y=np.array([gradient_descent_L1(5,i)[1] for i in x])"
      ]
    },
    {
      "cell_type": "code",
      "execution_count": 37,
      "metadata": {},
      "outputs": [
        {
          "data": {
            "text/plain": [
              "[<matplotlib.lines.Line2D at 0x2742dba3a90>]"
            ]
          },
          "execution_count": 37,
          "metadata": {},
          "output_type": "execute_result"
        },
        {
          "data": {
            "image/png": "[encoded data removed]",
            "text/plain": [
              "<Figure size 640x480 with 1 Axes>"
            ]
          },
          "metadata": {},
          "output_type": "display_data"
        }
      ],
      "source": [
        "import matplotlib.pyplot as plt\n",
        "plt.plot(x,y)"
      ]
    },
    {
      "cell_type": "code",
      "execution_count": 38,
      "metadata": {},
      "outputs": [],
      "source": [
        "x=np.array([i/100 for i in range(10)])\n",
        "y=np.array([gradient_descent_L2(5,i)[1] for i in x])"
      ]
    },
    {
      "cell_type": "code",
      "execution_count": 39,
      "metadata": {},
      "outputs": [
        {
          "data": {
            "text/plain": [
              "[<matplotlib.lines.Line2D at 0x2742b9c0f10>]"
            ]
          },
          "execution_count": 39,
          "metadata": {},
          "output_type": "execute_result"
        },
        {
          "data": {
            "image/png": "[encoded data removed]",
            "text/plain": [
              "<Figure size 640x480 with 1 Axes>"
            ]
          },
          "metadata": {},
          "output_type": "display_data"
        }
      ],
      "source": [
        "plt.plot(x,y)"
      ]
    }
  ],
  "metadata": {
    "colab": {
      "provenance": []
    },
    "kernelspec": {
      "display_name": "Python 3",
      "name": "python3"
    },
    "language_info": {
      "codemirror_mode": {
        "name": "ipython",
        "version": 3
      },
      "file_extension": ".py",
      "mimetype": "text/x-python",
      "name": "python",
      "nbconvert_exporter": "python",
      "pygments_lexer": "ipython3",
      "version": "3.8.10"
    }
  },
  "nbformat": 4,
  "nbformat_minor": 0
}
