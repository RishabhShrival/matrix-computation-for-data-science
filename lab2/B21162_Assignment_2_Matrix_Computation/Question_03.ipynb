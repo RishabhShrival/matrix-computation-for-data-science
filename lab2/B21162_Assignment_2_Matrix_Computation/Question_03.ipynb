{
  "nbformat": 4,
  "nbformat_minor": 0,
  "metadata": {
    "colab": {
      "provenance": []
    },
    "kernelspec": {
      "name": "python3",
      "display_name": "Python 3"
    },
    "language_info": {
      "name": "python"
    }
  },
  "cells": [
    {
      "cell_type": "code",
      "execution_count": 25,
      "metadata": {
        "id": "ohDRSjmk-Rx4"
      },
      "outputs": [],
      "source": [
        "import numpy as np\n",
        "import math"
      ]
    },
    {
      "cell_type": "code",
      "source": [
        "def is_linear_transformation_A(matrix,a,b):\n",
        "    u = np.array([[1, 2],[3,4]])\n",
        "    v = np.array([[1, 0],[0,1]])\n",
        "    u_plus_v = a*u + b*v\n",
        "    matrix_u_plus_v = np.dot(matrix,u_plus_v)\n",
        "    matrix_u = np.dot(matrix,a*u)\n",
        "    matrix_v = np.dot(matrix,b*v)\n",
        "    if np.array_equal(matrix_u_plus_v, matrix_u + matrix_v):\n",
        "        condition = True\n",
        "    else:\n",
        "        condition = False\n",
        "\n",
        "\n",
        "    if condition:\n",
        "        return \"Linear transformation\"\n",
        "    else:\n",
        "        return \"Not a linear transformation\"\n",
        "\n",
        "\n",
        "\n"
      ],
      "metadata": {
        "id": "6XaO1ie9-YeQ"
      },
      "execution_count": 26,
      "outputs": []
    },
    {
      "cell_type": "code",
      "source": [
        "matrix_A = np.array([[2, 3], [1, 4]])\n",
        "print(\"Transformation A:\", is_linear_transformation_A(matrix_A,2,3))"
      ],
      "metadata": {
        "colab": {
          "base_uri": "https://localhost:8080/"
        },
        "id": "jhT-u1YmpboQ",
        "outputId": "c3f52839-d837-4790-bb00-3bfc04233ade"
      },
      "execution_count": 27,
      "outputs": [
        {
          "output_type": "stream",
          "name": "stdout",
          "text": [
            "Transformation A: Linear transformation\n"
          ]
        }
      ]
    },
    {
      "cell_type": "code",
      "source": [
        "def is_linear_transformation_B(a, b):\n",
        "    u = np.array([math.pi/3,math.pi/6])\n",
        "    v = np.array([math.pi, -1* math.pi/2])\n",
        "    u_plus_v = a*u + b*v\n",
        "    T_u_plus_v = np.array([np.sin(u_plus_v[0] + u_plus_v[1]), np.sin(u_plus_v[0] - u_plus_v[1])])\n",
        "    T_u = a*np.array([np.sin(u[0] + u[1]), np.sin(u[0] - u[1])])\n",
        "    T_v = b*np.array([np.sin(v[0] + v[1]), np.sin(v[0] - v[1])])\n",
        "    if np.array_equal(T_u_plus_v, T_u + T_v):\n",
        "        return \"Linear transformation\"\n",
        "    else:\n",
        "        return \"Not a linear transformation\""
      ],
      "metadata": {
        "id": "4ug23Qc5nXp2"
      },
      "execution_count": 28,
      "outputs": []
    },
    {
      "cell_type": "code",
      "source": [
        "print(\"Transformation B:\", is_linear_transformation_B(1, 2))"
      ],
      "metadata": {
        "colab": {
          "base_uri": "https://localhost:8080/"
        },
        "id": "DvhgTosrqzGF",
        "outputId": "5d147efa-462d-44b8-94eb-43bc498f89e7"
      },
      "execution_count": 29,
      "outputs": [
        {
          "output_type": "stream",
          "name": "stdout",
          "text": [
            "Transformation B: Not a linear transformation\n"
          ]
        }
      ]
    },
    {
      "cell_type": "code",
      "source": [
        "\n",
        "def is_linear_transformation_C(u, v,a,b):\n",
        "  def T(x,y):\n",
        "    return np.array([x*y,y])\n",
        "\n",
        "  u_plus_v = a*u+b*v\n",
        "  T_u = a*T(u[0],u[1])\n",
        "  T_v= b*T(v[0],v[1])\n",
        "  T_u_v = T(u_plus_v[0],u_plus_v[1])\n",
        "  t = T_u+T_v\n",
        "\n",
        "  if np.array_equal(T_u_v, t):\n",
        "      return \"Linear transformation\"\n",
        "  else:\n",
        "      return \"Not a linear transformation\""
      ],
      "metadata": {
        "id": "1CZmfvH_nctY"
      },
      "execution_count": 30,
      "outputs": []
    },
    {
      "cell_type": "code",
      "source": [
        "u = np.array([1, 2])\n",
        "v = np.array([1, 0])\n",
        "print(\"Transformation C:\", is_linear_transformation_C(u,v,2, 3))"
      ],
      "metadata": {
        "colab": {
          "base_uri": "https://localhost:8080/"
        },
        "id": "B9IXbPRWuQd_",
        "outputId": "506a52f1-5def-4a22-fd62-30b2537c51ba"
      },
      "execution_count": 31,
      "outputs": [
        {
          "output_type": "stream",
          "name": "stdout",
          "text": [
            "Transformation C: Not a linear transformation\n"
          ]
        }
      ]
    },
    {
      "cell_type": "code",
      "source": [
        "def is_linear_transformation_D(u, v,a,b):\n",
        "  def T(x,y):\n",
        "    return np.array([3*x-y,y,x])\n",
        "\n",
        "  u_plus_v = a*u+b*v\n",
        "  T_u = a*T(u[0],u[1])\n",
        "  T_v= b*T(v[0],v[1])\n",
        "  T_u_v = T(u_plus_v[0],u_plus_v[1])\n",
        "  t = T_u+T_v\n",
        "\n",
        "  if np.array_equal(T_u_v, t):\n",
        "      return \"Linear transformation\"\n",
        "  else:\n",
        "      return \"Not a linear transformation\"\n",
        "\n"
      ],
      "metadata": {
        "id": "qI_KQPfpndcW"
      },
      "execution_count": 32,
      "outputs": []
    },
    {
      "cell_type": "code",
      "source": [
        "u = np.array([1, 2])\n",
        "v = np.array([1, 0])\n",
        "print(\"Transformation D:\", is_linear_transformation_D(u,v,4, 5))"
      ],
      "metadata": {
        "colab": {
          "base_uri": "https://localhost:8080/"
        },
        "id": "TZok53QHu9np",
        "outputId": "a6a56030-967f-4c0d-b96c-55305ef73524"
      },
      "execution_count": 33,
      "outputs": [
        {
          "output_type": "stream",
          "name": "stdout",
          "text": [
            "Transformation D: Linear transformation\n"
          ]
        }
      ]
    }
  ]
}