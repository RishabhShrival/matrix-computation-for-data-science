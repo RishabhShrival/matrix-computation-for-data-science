{
 "cells": [
  {
   "cell_type": "code",
   "execution_count": 119,
   "metadata": {},
   "outputs": [],
   "source": [
    "import numpy as np"
   ]
  },
  {
   "cell_type": "code",
   "execution_count": 120,
   "metadata": {},
   "outputs": [],
   "source": [
    "# Generate the matrix A\n",
    "n = 60\n",
    "A = np.diag(np.ones(n)) + np.diag(-np.ones(n-1), k=-1)\n",
    "A[:, -1] = 1"
   ]
  },
  {
   "cell_type": "code",
   "execution_count": 121,
   "metadata": {},
   "outputs": [],
   "source": [
    "# for i in range(n):\n",
    "#     for j in range(n):\n",
    "#         if(j<i):\n",
    "#             A[i][j]=-1"
   ]
  },
  {
   "cell_type": "code",
   "execution_count": 122,
   "metadata": {},
   "outputs": [
    {
     "name": "stdout",
     "output_type": "stream",
     "text": [
      "[[ 1.  0.  0. ...  0.  0.  1.]\n",
      " [-1.  1.  0. ...  0.  0.  1.]\n",
      " [ 0. -1.  1. ...  0.  0.  1.]\n",
      " ...\n",
      " [ 0.  0.  0. ...  1.  0.  1.]\n",
      " [ 0.  0.  0. ... -1.  1.  1.]\n",
      " [ 0.  0.  0. ...  0. -1.  1.]]\n"
     ]
    }
   ],
   "source": [
    "print(A)"
   ]
  },
  {
   "cell_type": "code",
   "execution_count": 123,
   "metadata": {},
   "outputs": [],
   "source": [
    "# Generate the vector x\n",
    "x = np.random.rand(n)\n",
    "\n",
    "# Compute the right-hand side vector b\n",
    "b = np.dot(A, x)"
   ]
  },
  {
   "cell_type": "code",
   "execution_count": 124,
   "metadata": {},
   "outputs": [],
   "source": [
    "def conjugate_gradient(A, b, x0, tol=1e-6, max_iter=1000):\n",
    "    x = x0\n",
    "    r = b - A @ x\n",
    "    d = r.copy()\n",
    "    iterations = 0\n",
    "    \n",
    "    for k in range(max_iter):\n",
    "        alpha = np.dot(r, r) / np.dot(d, A @ d)\n",
    "        x = x + alpha * d\n",
    "        r_prev = r\n",
    "        r = r - alpha * A @ d\n",
    "        beta = np.dot(r, r) / np.dot(r_prev, r_prev)\n",
    "        d = r + beta * d\n",
    "        iterations += 1\n",
    "        \n",
    "        if np.linalg.norm(r) < tol:\n",
    "            break\n",
    "            \n",
    "    return x\n"
   ]
  },
  {
   "cell_type": "code",
   "execution_count": 125,
   "metadata": {},
   "outputs": [],
   "source": [
    "def jacobi(A, b, x0=None, tol=1e-6, max_iter=1000):\n",
    "    n = len(b)\n",
    "    if x0 is None:\n",
    "        x = np.zeros(n)\n",
    "    else:\n",
    "        x = x0.copy()\n",
    "    D = np.diag(np.diag(A))\n",
    "    R = A - D\n",
    "    iterations = 0\n",
    "    \n",
    "    for _ in range(max_iter):\n",
    "        x_new = np.linalg.solve(D, b - R @ x)\n",
    "        \n",
    "        iterations += 1\n",
    "        if np.linalg.norm(x_new - x) < tol:\n",
    "            break\n",
    "        \n",
    "        x = x_new.copy()\n",
    "    \n",
    "    return x"
   ]
  },
  {
   "cell_type": "code",
   "execution_count": 126,
   "metadata": {},
   "outputs": [],
   "source": [
    "def gauss_seidel(A, b, x0=None, tol=1e-6, max_iter=1000):\n",
    "    b_size = len(b)\n",
    "    if x0 is None:\n",
    "        x = np.zeros(b_size)\n",
    "    else:\n",
    "        x = x0.copy()\n",
    "    iterations = 0\n",
    "    \n",
    "    for _ in range(max_iter):\n",
    "        x_new = np.zeros_like(x)\n",
    "        for i in range(b_size):\n",
    "            x_new[i] = (b[i] - np.dot(A[i, :i], x_new[:i]) - np.dot(A[i, i+1:], x[i+1:])) / A[i, i]\n",
    "        \n",
    "        iterations += 1\n",
    "        if np.linalg.norm(x_new - x) < tol:\n",
    "            break\n",
    "        \n",
    "        x = x_new.copy()\n",
    "    \n",
    "    return x"
   ]
  },
  {
   "cell_type": "code",
   "execution_count": 127,
   "metadata": {},
   "outputs": [],
   "source": [
    "def preconditioned_conjugate_gradient(A, b, x0, M, tol=1e-6, max_iter=1000):\n",
    "    M_inv = np.linalg.inv(M)\n",
    "    A_hat = M_inv @ A\n",
    "    b_hat = M_inv @ b\n",
    "    x = x0\n",
    "    r = b_hat - A_hat @ x\n",
    "    p = r.copy()\n",
    "    iterations = 0\n",
    "    \n",
    "    for k in range(max_iter):\n",
    "        alpha = np.dot(r, r) / np.dot(p, A_hat @ p)\n",
    "        x = x + alpha * p\n",
    "        r_prev = r\n",
    "        r = r - alpha * A_hat @ p\n",
    "        beta = np.dot(r, r) / np.dot(r_prev, r_prev)\n",
    "        p = r + beta * p\n",
    "        iterations += 1\n",
    "        \n",
    "        if np.linalg.norm(r) < tol:\n",
    "            break\n",
    "            \n",
    "    return x, iterations"
   ]
  },
  {
   "cell_type": "code",
   "execution_count": 128,
   "metadata": {},
   "outputs": [],
   "source": [
    "# Preconditioning matrix (Example: Diagonal matrix with the diagonal of A)\n",
    "M = np.diag(np.diag(A))\n",
    "x0 = np.zeros_like(n)"
   ]
  },
  {
   "cell_type": "code",
   "execution_count": 129,
   "metadata": {},
   "outputs": [
    {
     "name": "stderr",
     "output_type": "stream",
     "text": [
      "C:\\Users\\Rishabh\\AppData\\Local\\Temp\\ipykernel_13336\\4047450728.py:12: RuntimeWarning: overflow encountered in scalar subtract\n",
      "  x_new[i] = (b[i] - np.dot(A[i, :i], x_new[:i]) - np.dot(A[i, i+1:], x[i+1:])) / A[i, i]\n"
     ]
    },
    {
     "ename": "ValueError",
     "evalue": "matmul: Input operand 1 does not have enough dimensions (has 0, gufunc core with signature (n?,k),(k,m?)->(n?,m?) requires 1)",
     "output_type": "error",
     "traceback": [
      "\u001b[1;31m---------------------------------------------------------------------------\u001b[0m",
      "\u001b[1;31mValueError\u001b[0m                                Traceback (most recent call last)",
      "Cell \u001b[1;32mIn[129], line 7\u001b[0m\n\u001b[0;32m      5\u001b[0m x_j\u001b[38;5;241m=\u001b[39mjacobi(A,b)\n\u001b[0;32m      6\u001b[0m x_g\u001b[38;5;241m=\u001b[39mgauss_seidel(A,b)\n\u001b[1;32m----> 7\u001b[0m x_p\u001b[38;5;241m=\u001b[39m\u001b[43mpreconditioned_conjugate_gradient\u001b[49m\u001b[43m(\u001b[49m\u001b[43mA\u001b[49m\u001b[43m,\u001b[49m\u001b[43mb\u001b[49m\u001b[43m,\u001b[49m\u001b[43mx0\u001b[49m\u001b[43m,\u001b[49m\u001b[43mM\u001b[49m\u001b[43m)\u001b[49m\n\u001b[0;32m      8\u001b[0m x_cg\n",
      "Cell \u001b[1;32mIn[127], line 6\u001b[0m, in \u001b[0;36mpreconditioned_conjugate_gradient\u001b[1;34m(A, b, x0, M, tol, max_iter)\u001b[0m\n\u001b[0;32m      4\u001b[0m b_hat \u001b[38;5;241m=\u001b[39m M_inv \u001b[38;5;241m@\u001b[39m b\n\u001b[0;32m      5\u001b[0m x \u001b[38;5;241m=\u001b[39m x0\n\u001b[1;32m----> 6\u001b[0m r \u001b[38;5;241m=\u001b[39m b_hat \u001b[38;5;241m-\u001b[39m \u001b[43mA_hat\u001b[49m\u001b[43m \u001b[49m\u001b[38;5;241;43m@\u001b[39;49m\u001b[43m \u001b[49m\u001b[43mx\u001b[49m\n\u001b[0;32m      7\u001b[0m p \u001b[38;5;241m=\u001b[39m r\u001b[38;5;241m.\u001b[39mcopy()\n\u001b[0;32m      8\u001b[0m iterations \u001b[38;5;241m=\u001b[39m \u001b[38;5;241m0\u001b[39m\n",
      "\u001b[1;31mValueError\u001b[0m: matmul: Input operand 1 does not have enough dimensions (has 0, gufunc core with signature (n?,k),(k,m?)->(n?,m?) requires 1)"
     ]
    }
   ],
   "source": [
    "# Solve the linear system using different methods\n",
    "x_inv = np.linalg.solve(A, b)  # Direct inversion\n",
    "x_qr = np.linalg.lstsq(A, b, rcond=None)[0]  # QR decomposition solution\n",
    "x_cg=conjugate_gradient(A,b, np.zeros_like(b))\n",
    "x_j=jacobi(A,b)\n",
    "x_g=gauss_seidel(A,b)\n",
    "x_p=preconditioned_conjugate_gradient(A,b,x0,M)\n",
    "x_cg"
   ]
  },
  {
   "cell_type": "code",
   "execution_count": null,
   "metadata": {},
   "outputs": [],
   "source": [
    "# Compute the 2-norm of the difference between computed vectors and true solution\n",
    "diff_inv = np.linalg.norm(x_inv - x)  # Direct inversion\n",
    "diff_qr = np.linalg.norm(x_qr - x)  # QR decomposition solution\n",
    "diff_cg=np.linalg.norm(x_cg - x)\n",
    "diff_j=np.linalg.norm(x_j - x)\n",
    "diff_g=np.linalg.norm(x_g - x)\n",
    "diff_p=np.linalg.norm(x_p - x)"
   ]
  },
  {
   "cell_type": "code",
   "execution_count": null,
   "metadata": {},
   "outputs": [],
   "source": [
    "# Compute the relative differences\n",
    "rel_diff_inv = diff_inv / np.linalg.norm(x)\n",
    "rel_diff_qr = diff_qr / np.linalg.norm(x)\n",
    "rel_diff_cg = diff_cg / np.linalg.norm(x)\n",
    "rel_diff_j = diff_j / np.linalg.norm(x)\n",
    "rel_diff_g = diff_g / np.linalg.norm(x)\n",
    "rel_diff_p = diff_p / np.linalg.norm(x)\n"
   ]
  },
  {
   "cell_type": "code",
   "execution_count": null,
   "metadata": {},
   "outputs": [
    {
     "name": "stdout",
     "output_type": "stream",
     "text": [
      "Relative difference for direct inversion: 2.0988182159919432e-16\n",
      "Relative difference for QR decomposition solution: 5.775061672708036e-16\n",
      "Relative difference for cg decomposition solution: 9193213.72850913\n",
      "Relative difference for jaco decomposition solution: nan\n",
      "Relative difference for gause decomposition solution: nan\n"
     ]
    }
   ],
   "source": [
    "print(\"Relative difference for direct inversion:\", rel_diff_inv)\n",
    "print(\"Relative difference for QR decomposition solution:\", rel_diff_qr)\n",
    "print(\"Relative difference for cg decomposition solution:\", rel_diff_cg)\n",
    "print(\"Relative difference for jaco decomposition solution:\", rel_diff_j)\n",
    "print(\"Relative difference for gause decomposition solution:\", rel_diff_g)\n",
    "print(\"Relative difference for gause decomposition solution:\", rel_diff_p)\n"
   ]
  },
  {
   "cell_type": "code",
   "execution_count": null,
   "metadata": {},
   "outputs": [
    {
     "name": "stdout",
     "output_type": "stream",
     "text": [
      "Condition number of matrix A: 2.6464012577920477\n"
     ]
    }
   ],
   "source": [
    "# Compute the condition number of A\n",
    "condition_number = np.linalg.cond(A)\n",
    "print(\"Condition number of matrix A:\", condition_number)"
   ]
  }
 ],
 "metadata": {
  "kernelspec": {
   "display_name": "Python 3",
   "language": "python",
   "name": "python3"
  },
  "language_info": {
   "codemirror_mode": {
    "name": "ipython",
    "version": 3
   },
   "file_extension": ".py",
   "mimetype": "text/x-python",
   "name": "python",
   "nbconvert_exporter": "python",
   "pygments_lexer": "ipython3",
   "version": "3.8.10"
  }
 },
 "nbformat": 4,
 "nbformat_minor": 2
}
