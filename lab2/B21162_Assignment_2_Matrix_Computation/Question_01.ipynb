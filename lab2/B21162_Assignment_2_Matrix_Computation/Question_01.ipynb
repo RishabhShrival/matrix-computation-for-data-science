{
  "nbformat": 4,
  "nbformat_minor": 0,
  "metadata": {
    "colab": {
      "provenance": []
    },
    "kernelspec": {
      "name": "python3",
      "display_name": "Python 3"
    },
    "language_info": {
      "name": "python"
    }
  },
  "cells": [
    {
      "cell_type": "code",
      "execution_count": 1,
      "metadata": {
        "id": "3VT9TrxHoo0v"
      },
      "outputs": [],
      "source": [
        "import numpy as np\n",
        "import math"
      ]
    },
    {
      "cell_type": "code",
      "source": [
        "def LinfNorm(A):\n",
        "    ans = 0\n",
        "\n",
        "    for x in A:\n",
        "        abs_row_sum = 0\n",
        "        for y in x:\n",
        "            abs_row_sum += abs(y)\n",
        "\n",
        "        if abs_row_sum > ans:\n",
        "            ans = abs_row_sum\n",
        "\n",
        "    return ans\n",
        "\n",
        "def L1Norm(A):\n",
        "    sums_of_columns = [0]*len(A[0])\n",
        "    for i in range(len(A)):\n",
        "        for j in range(len(A[0])):\n",
        "            sums_of_columns[j] += abs(A[i,j])\n",
        "\n",
        "    ans = sums_of_columns[0]\n",
        "\n",
        "    for i in range(len(sums_of_columns)):\n",
        "        if sums_of_columns[i] > ans:\n",
        "            ans = sums_of_columns[i]\n",
        "\n",
        "    return ans\n",
        "\n",
        "def L2Norm(A):\n",
        "\n",
        "    ATA = np.matmul(np.transpose(A),A)\n",
        "    eig_val,eig_vect = np.linalg.eig(ATA)\n",
        "\n",
        "    eig_val = list([ abs(x) for x in eig_val])\n",
        "\n",
        "    return max(eig_val) ** 0.5\n",
        "\n",
        "def FrobeniusNorm(A):\n",
        "\n",
        "    ans = 0\n",
        "\n",
        "    for x in A:\n",
        "        for y in x:\n",
        "            ans += y**2\n",
        "\n",
        "    return ans ** 0.5\n"
      ],
      "metadata": {
        "id": "NsZffeB4MaTD"
      },
      "execution_count": 2,
      "outputs": []
    },
    {
      "cell_type": "code",
      "source": [
        "A = np.array([[1,2,3],[4,5,6],[-15,6,9]])\n",
        "B = np.array([[2,1,0,0,0],[3,3,12,0,0],[0,4,-33,21,0],[0,0,12,0,23],[5,0,0,14,67]])\n",
        "\n",
        "\n",
        "if np.linalg.det(A) == 0:\n",
        "    print(\"Matrix A is non invertible\\n\")\n",
        "    ATA = np.matmul(np.transpose(A),A)\n",
        "    eig_val,eig_vect = np.linalg.eig(ATA)\n",
        "    eig_val = list([abs(x) for x in eig_val])\n",
        "    eig_val.sort()\n",
        "    l = eig_val[len(eig_val) - 1]\n",
        "    m = eig_val[0]\n",
        "    print(\"Condition number of A is\",(l/m) ** 0.5)\n",
        "\n",
        "else:\n",
        "    Ainv = np.linalg.inv(A)\n",
        "    CNAa = L1Norm(A)*L1Norm(Ainv)\n",
        "    CNAb = FrobeniusNorm(A)*FrobeniusNorm(Ainv)\n",
        "    CNAc = LinfNorm(A)*LinfNorm(Ainv)\n",
        "    CNAd = L2Norm(A)*L2Norm(Ainv)\n",
        "    print(\"\\nThe Conditional number of A wrt L1 norm is\", CNAa)\n",
        "    print(\"\\nThe Conditional number of A wrt Frobenius norm is\", CNAb)\n",
        "    print(\"\\nThe Conditional number of A wrt L infinity norm is\", CNAc)\n",
        "    print(\"\\nThe Conditional number of A wrt L2 norm is\", CNAd)\n",
        "\n",
        "\n",
        "if np.linalg.det(B) == 0:\n",
        "    print(\"Matrix B is non invertible\\n\")\n",
        "    BTB = np.matmul(np.transpose(B),B)\n",
        "    eig_val,eig_vect = np.linalg.eig(BTB)\n",
        "    eig_val = list([abs(x) for x in eig_val])\n",
        "    eig_val.sort()\n",
        "    l = eig_val[len(eig_val) - 1]\n",
        "    m = eig_val[0]\n",
        "    print(\"Condition number of B is\",(l/m) ** 0.5)\n",
        "\n",
        "else:\n",
        "    Binv = np.linalg.inv(B)\n",
        "    CNBa = L1Norm(B)*L1Norm(Binv)\n",
        "    CNBb = FrobeniusNorm(B)*FrobeniusNorm(Binv)\n",
        "    CNBc = LinfNorm(B)*LinfNorm(Binv)\n",
        "    CNBd = L2Norm(B)*L2Norm(Binv)\n",
        "    print(\"\\nThe Conditional number of B wrt L1 norm is\", CNBa)\n",
        "    print(\"\\nThe Conditional number of B wrt Frobenius norm is\", CNBb)\n",
        "    print(\"\\nThe Conditional number of B wrt L infinity norm is\", CNBc)\n",
        "    print(\"\\nThe Conditional number of B wrt L2 norm is\", CNBd)"
      ],
      "metadata": {
        "colab": {
          "base_uri": "https://localhost:8080/"
        },
        "id": "JxuSr3KuNlCp",
        "outputId": "b1a41170-45a6-48b8-c007-cac82832edeb"
      },
      "execution_count": 3,
      "outputs": [
        {
          "output_type": "stream",
          "name": "stdout",
          "text": [
            "\n",
            "The Conditional number of A wrt L1 norm is 86.66666666666669\n",
            "\n",
            "The Conditional number of A wrt Frobenius norm is 66.77047473469317\n",
            "\n",
            "The Conditional number of A wrt L infinity norm is 103.33333333333336\n",
            "\n",
            "The Conditional number of A wrt L2 norm is 59.67368763274811\n",
            "\n",
            "The Conditional number of B wrt L1 norm is 206.90938275207938\n",
            "\n",
            "The Conditional number of B wrt Frobenius norm is 150.31042366912672\n",
            "\n",
            "The Conditional number of B wrt L infinity norm is 237.09295199182836\n",
            "\n",
            "The Conditional number of B wrt L2 norm is 126.43946696485582\n"
          ]
        }
      ]
    }
  ]
}