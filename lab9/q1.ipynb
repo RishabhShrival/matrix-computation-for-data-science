{
 "cells": [
  {
   "cell_type": "code",
   "execution_count": 78,
   "metadata": {},
   "outputs": [],
   "source": [
    "import numpy as np"
   ]
  },
  {
   "cell_type": "code",
   "execution_count": 79,
   "metadata": {},
   "outputs": [],
   "source": [
    "def sor(A, b, x0, omega=1, tol=1e-6, max_iter=10000):\n",
    "    n = len(b)\n",
    "    x = x0.copy()\n",
    "    for k in range(max_iter):\n",
    "        x_new = np.zeros_like(x)\n",
    "        for i in range(n-1):\n",
    "            x_new[i] = (1 - omega) * x[i] + (omega / A[i, i]) * (b[i] - np.dot(A[i, :i], x_new[:i]) - np.dot(A[i, i+1:], x[i+1:]))\n",
    "        x_new[n-1] = (1 - omega) * x[n-1] + (omega / A[n-1, n-1]) * (b[n-1] - np.dot(A[n-1, :n-1], x_new[:n-1]) - np.dot(A[n-1, n:], x[n:]))\n",
    "        if np.linalg.norm(x_new - x) < tol:\n",
    "            return x, k\n",
    "        x = x_new\n",
    "    return x, max_iter\n",
    "\n"
   ]
  },
  {
   "cell_type": "code",
   "execution_count": 80,
   "metadata": {},
   "outputs": [],
   "source": [
    "# def optimal_omega(A):\n",
    "#     # Check if A is symmetric positive definite\n",
    "#     if not np.allclose(A, A.T) or not np.all(np.linalg.eigvals(A) > 0):\n",
    "#         raise ValueError(\"Matrix A must be symmetric positive definite.\")\n",
    "#     # Calculate optimal omega using formula for symmetric positive definite matrices\n",
    "#     diag = np.diag(A)\n",
    "#     off_diag = A - np.diag(diag)\n",
    "#     omega_opt = 2 / (1 + np.sqrt(1 - (np.linalg.norm((diag+off_diag), 'spectral'))))\n",
    "#     return omega_opt"
   ]
  },
  {
   "cell_type": "code",
   "execution_count": 81,
   "metadata": {},
   "outputs": [],
   "source": [
    "def gauss_seidel_method(coefficients, constants, initial_guess, tolerance=1e-5, max_iterations=10000):\n",
    "    n = len(coefficients)\n",
    "    x = initial_guess.copy()\n",
    "    errors = []\n",
    "    for k in range(max_iterations):\n",
    "        x_new = np.zeros(n)\n",
    "        for i in range(n-1):\n",
    "            x_new[i] = (constants[i] - np.dot(coefficients[i][:i], x_new[:i]) - np.dot(coefficients[i][i+1:], x[i+1:])) / coefficients[i][i]\n",
    "        x_new[n-1] = (constants[n-1] - np.dot(coefficients[n-1][:n-1], x_new[:n-1])) / coefficients[n-1][n-1]\n",
    "        errors.append(np.linalg.norm(x_new - x))\n",
    "        if errors[-1] < tolerance:\n",
    "            return x,k\n",
    "        x = x_new\n",
    "    return x, k"
   ]
  },
  {
   "cell_type": "code",
   "execution_count": 82,
   "metadata": {},
   "outputs": [],
   "source": [
    "def sor2(coefficients, constants, initial_guess,omega=1, tolerance=1e-5, max_iterations=10000):\n",
    "    n = len(coefficients)\n",
    "    x = initial_guess.copy()\n",
    "    errors = []\n",
    "    for k in range(max_iterations):\n",
    "        x_new = np.zeros(n)\n",
    "        for i in range(n):\n",
    "            x_new[i] = (1-omega)*x[i] + omega*(constants[i] - np.dot(coefficients[i][:i], x_new[:i]) - np.dot(coefficients[i][i+1:], x[i+1:])) / coefficients[i][i]\n",
    "        # x_new[n-1] = (1-omega)*x[n-1] + omega*(constants[n-1] - np.dot(coefficients[n-1][:n-1], x_new[:n-1])) / coefficients[n-1][n-1]\n",
    "        errors.append(np.linalg.norm(x_new - x))\n",
    "        if errors[-1] < tolerance:\n",
    "            return x,k\n",
    "        x = x_new\n",
    "    return x, k"
   ]
  },
  {
   "cell_type": "code",
   "execution_count": 83,
   "metadata": {},
   "outputs": [
    {
     "name": "stdout",
     "output_type": "stream",
     "text": [
      "omega is:  1.2\n",
      "Solution: [ 7.85969634  0.42292612 -0.073592   -0.54064114  0.01062615]\n",
      "Number of iterations: 20\n",
      "Solution: [ 7.85968625  0.42292603 -0.0735918  -0.5406396   0.01062614]\n",
      "Number of iterations: 35\n"
     ]
    }
   ],
   "source": [
    "# Example usage:\n",
    "A = np.array([[0.2, 0.1, 1, 1,0],\n",
    "              [0.1, 4, -1,1, -1],\n",
    "              [1, -1, 60, 0, -2],\n",
    "              [1 , 1, 0, 8, 4],\n",
    "              [0, -1, -2, 4, 700]])\n",
    "b = np.array([1, 2, 3, 4,5])\n",
    "x0 = np.zeros_like(b)\n",
    "# omega = optimal_omega(A) \n",
    "omega =1.2\n",
    "print(\"omega is: \",omega) # Choose the relaxation parameter omega (0 < omega < 2) for optimal convergence\n",
    "solution, iterations = sor2(A, b, x0, omega)\n",
    "solution2,iterations2=gauss_seidel_method(A,b,x0)\n",
    "print(\"Solution:\", solution)\n",
    "print(\"Number of iterations:\", iterations)\n",
    "\n",
    "print(\"Solution:\", solution2)\n",
    "print(\"Number of iterations:\", iterations2)"
   ]
  },
  {
   "cell_type": "code",
   "execution_count": 84,
   "metadata": {},
   "outputs": [
    {
     "name": "stdout",
     "output_type": "stream",
     "text": [
      "[ 7.85971308  0.42292641 -0.07359224 -0.54064302  0.01062616]\n"
     ]
    }
   ],
   "source": [
    "print(np.linalg.solve(A,b))"
   ]
  },
  {
   "cell_type": "code",
   "execution_count": 85,
   "metadata": {},
   "outputs": [],
   "source": [
    "def condition_number(A, norm='spectral'):\n",
    "    return np.linalg.cond(A)\n",
    "\n"
   ]
  },
  {
   "cell_type": "code",
   "execution_count": 86,
   "metadata": {},
   "outputs": [
    {
     "name": "stdout",
     "output_type": "stream",
     "text": [
      "12265.15914047122\n"
     ]
    }
   ],
   "source": [
    "print(condition_number(A))"
   ]
  }
 ],
 "metadata": {
  "kernelspec": {
   "display_name": "Python 3",
   "language": "python",
   "name": "python3"
  },
  "language_info": {
   "codemirror_mode": {
    "name": "ipython",
    "version": 3
   },
   "file_extension": ".py",
   "mimetype": "text/x-python",
   "name": "python",
   "nbconvert_exporter": "python",
   "pygments_lexer": "ipython3",
   "version": "3.8.10"
  }
 },
 "nbformat": 4,
 "nbformat_minor": 2
}
