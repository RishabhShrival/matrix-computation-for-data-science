{
 "cells": [
  {
   "cell_type": "markdown",
   "metadata": {},
   "source": [
    "Ques 1 ------>"
   ]
  },
  {
   "cell_type": "code",
   "execution_count": 1,
   "metadata": {},
   "outputs": [],
   "source": [
    "import numpy as np\n",
    "import matplotlib.pyplot as plt"
   ]
  },
  {
   "cell_type": "code",
   "execution_count": 2,
   "metadata": {},
   "outputs": [],
   "source": [
    "\n",
    "def backward_substitution(A,b):\n",
    "    n= len(b)\n",
    "    x=[0,0,0]\n",
    "\n",
    "    for i in range(n-1,-1,-1):\n",
    "        x[i] = (b[i] - np.dot(A[i, i+1:], x[i+1:])) / A[i, i]\n",
    "\n",
    "    return x"
   ]
  },
  {
   "cell_type": "code",
   "execution_count": 3,
   "metadata": {},
   "outputs": [],
   "source": [
    "def Gaussian_elimination(A, B):\n",
    "\n",
    "    n=len(A)\n",
    "\n",
    "    for i in range(n):\n",
    "        A[i].append(B[i])\n",
    "    j=0\n",
    "    i=0\n",
    "    for i in range(n):\n",
    "        diag=A[i][j]\n",
    "        \n",
    "        if(diag==0):\n",
    "            for k in range(i+1,n):\n",
    "                if(A[k][j]!=0):\n",
    "                    A[i],A[k]=A[k],[A[i]]\n",
    "                    break\n",
    "            if(A[i][j]==0):\n",
    "                j+=1\n",
    "                continue\n",
    "            \n",
    "        # A[i]=A[i]/A[i][j]\n",
    "        for k in range(i+1,n):\n",
    "            replaced=-A[k][j] / A[i][j]\n",
    "\n",
    "            for  l in range(j,n+1):\n",
    "                A[k][l]+=A[i][l]*replaced\n",
    "\n",
    "\n",
    "        j+=1\n",
    "\n",
    "    # print(A)\n",
    "    new_A = np.array([row[:-1] for row in A])\n",
    "    new_B = np.array([row[-1] for row in A])\n",
    "    return backward_substitution(new_A,new_B)\n",
    "\n"
   ]
  },
  {
   "cell_type": "code",
   "execution_count": 4,
   "metadata": {},
   "outputs": [
    {
     "name": "stdout",
     "output_type": "stream",
     "text": [
      "The Solution is:- x =  1.0  y =  2.0  z =  3.0\n"
     ]
    }
   ],
   "source": [
    "A=[[2,3,-1],[4,4,-3],[-2,3,-1]]\n",
    "B=[5,3,1]\n",
    "\n",
    "x=Gaussian_elimination(A,B)\n",
    "\n",
    "print(\"The Solution is:- x = \",x[0], \" y = \",x[1],\" z = \",x[2] )"
   ]
  },
  {
   "cell_type": "markdown",
   "metadata": {},
   "source": [
    "Ques 2"
   ]
  },
  {
   "cell_type": "code",
   "execution_count": 5,
   "metadata": {},
   "outputs": [],
   "source": [
    "def spectral_rad(matrix):\n",
    "    eigenvalues = np.linalg.eigvals(matrix)\n",
    "    spectral_rad = max(abs(eigenvalues))\n",
    "    return spectral_rad\n",
    "\n",
    "def check_convergence_jacobi(A):\n",
    "    n = len(A)\n",
    "    \n",
    "    # Splitting A into D, L, and U\n",
    "    D = np.diag(np.diag(A))\n",
    "    L = np.tril(A, k=-1)\n",
    "    U = np.triu(A, k=1)\n",
    "    \n",
    "    # Compute M = D^(-1) * (L + U)\n",
    "    M = np.matmul(np.linalg.inv(D), L + U)\n",
    "    \n",
    "    # Compute the spectral radius of M\n",
    "    Rm = spectral_rad(M)\n",
    "    \n",
    "    if Rm < 1:\n",
    "        print(f\"The spectral radius of M is {Rm}, which is less than 1. The Jacobi method is expected to converge.\")\n",
    "    else:\n",
    "        print(f\"The spectral radius of M is {Rm}, which is greater than or equal to 1. The Jacobi method may not converge.\")"
   ]
  },
  {
   "cell_type": "code",
   "execution_count": 6,
   "metadata": {},
   "outputs": [],
   "source": [
    "def jacobi_method(A, b, initial_guess, max_iterations=500, tolerance=0.00001):\n",
    "    n = len(A)\n",
    "    x = initial_guess.copy()\n",
    "    x_new = np.zeros(n)\n",
    "    \n",
    "    convergence_data = []\n",
    "\n",
    "    for k in range(max_iterations):\n",
    "        for i in range(n):\n",
    "            sum_term = sum(A[i][j] * x[j] for j in range(n) if j != i)\n",
    "            x_new[i] = (b[i] - sum_term) / A[i][i]\n",
    "        \n",
    "        error = np.linalg.norm(x_new - x)\n",
    "        convergence_data.append(error)\n",
    "        \n",
    "        if error < tolerance:\n",
    "            return x_new, convergence_data\n",
    "        \n",
    "        x = x_new.copy()\n",
    "    \n",
    "\n",
    "        \n",
    "    check_convergence_jacobi(A)\n",
    "    return x, convergence_data"
   ]
  },
  {
   "cell_type": "code",
   "execution_count": 7,
   "metadata": {},
   "outputs": [
    {
     "name": "stdout",
     "output_type": "stream",
     "text": [
      "The spectral radius of M is 3.9481264503524685, which is greater than or equal to 1. The Jacobi method may not converge.\n"
     ]
    },
    {
     "data": {
      "image/png": "[encoded data removed]",
      "text/plain": [
       "<Figure size 1000x600 with 1 Axes>"
      ]
     },
     "metadata": {},
     "output_type": "display_data"
    },
    {
     "name": "stdout",
     "output_type": "stream",
     "text": [
      "Solution: [ 2.91738076e+296 -2.48739130e+296 -2.05174628e+296]\n"
     ]
    }
   ],
   "source": [
    "A = np.array([[2.412, 9.879, 1.564],\n",
    "              [1.876, 2.985, -11.62],\n",
    "              [12.214,  2.367, 3.672]])\n",
    "\n",
    "b = np.array([4.89, -0.972,  7.814])\n",
    "\n",
    "# A = np.array([[10, -1, 2],\n",
    "#               [-1, 11, -1],\n",
    "#               [2, -1, 10]])\n",
    "\n",
    "# b = np.array([6, 25, -11])\n",
    "initial_guess = np.zeros(3)\n",
    "\n",
    "solution, convergence_data = jacobi_method(A, b, initial_guess)\n",
    "\n",
    "plt.figure(figsize=(10, 6))\n",
    "plt.plot(convergence_data, '-o', color='b', markersize=4, linewidth=1)\n",
    "plt.xlabel('Iteration')\n",
    "plt.ylabel('Convergence Error')\n",
    "plt.title('Convergence of Jacobi Iterative Method')\n",
    "plt.grid(True)\n",
    "plt.show()\n",
    "print(\"Solution:\", solution)"
   ]
  },
  {
   "cell_type": "markdown",
   "metadata": {},
   "source": [
    "Ques 3"
   ]
  },
  {
   "cell_type": "code",
   "execution_count": 8,
   "metadata": {},
   "outputs": [],
   "source": [
    "import numpy as np\n",
    "import matplotlib.pyplot as plt\n",
    "# import sklearn.datasets\n",
    "# from sklearn.preprocessing import PolynomialFeatures"
   ]
  },
  {
   "cell_type": "code",
   "execution_count": 9,
   "metadata": {},
   "outputs": [],
   "source": [
    "import sklearn.datasets\n",
    "from sklearn.preprocessing import PolynomialFeatures"
   ]
  },
  {
   "cell_type": "code",
   "execution_count": 10,
   "metadata": {},
   "outputs": [
    {
     "data": {
      "image/png": "[encoded data removed]",
      "text/plain": [
       "<Figure size 640x480 with 1 Axes>"
      ]
     },
     "metadata": {},
     "output_type": "display_data"
    }
   ],
   "source": [
    "# Create the original observations\n",
    "orig_X,_ = sklearn.datasets.make_regression(n_samples=100,n_features=1,noise=5)\n",
    "poly = PolynomialFeatures(degree=2, include_bias=False)\n",
    "# Transform the features into second order polynomial features\n",
    "xx_ = poly.fit_transform(orig_X)\n",
    "# Extract the predictors and the values from the manufactured data\n",
    "X = [i[0] for i in xx_]\n",
    "Y_gt = [i[1] for i in xx_]\n",
    "noise = np.random.uniform(size=(len(Y_gt)))\n",
    "# Add some noise to the ground truth values\n",
    "Y_gt += noise\n",
    "# Shape the ground truth values for use with the model\n",
    "Y_gt = np.reshape(Y_gt,(-1,1))\n",
    "\n",
    "# Formulate the system of linear equations as Ax = Y\n",
    "A = np.column_stack((np.square(X),X, np.ones_like(X)))\n",
    "Y = Y_gt\n",
    "\n",
    "\n",
    "# Perform QR decomposition\n",
    "Q, R = np.linalg.qr(A)\n",
    "\n",
    "# Solve the system using QR decomposition\n",
    "coefficients = np.linalg.solve(R, np.dot(Q.T, Y))\n",
    "\n",
    "# Extract the coefficients\n",
    "a, b, c = coefficients\n",
    "\n",
    "# Plot the input data\n",
    "plt.scatter(X,Y_gt,label=\"original data\")\n",
    "plt.xlabel(\"x\")\n",
    "plt.ylabel(\"y\")\n",
    "plt.title(\"Input Training Data\")\n",
    "# plt.show()\n",
    "# Plot the fitted quadratic polynomial\n",
    "x_values = np.linspace(min(X), max(X), 100)\n",
    "y_values = a * (x_values**2) + b * x_values + c\n",
    "plt.plot(x_values, y_values)\n",
    "plt.legend()\n",
    "plt.show()\n",
    "\n",
    "# print(f\"The fitted quadratic polynomial is: y = {a:.2f}x^2 + {b:.2f}x + {c:.2f}\")"
   ]
  },
  {
   "cell_type": "markdown",
   "metadata": {},
   "source": [
    "part (c)"
   ]
  },
  {
   "cell_type": "code",
   "execution_count": 11,
   "metadata": {},
   "outputs": [
    {
     "name": "stdout",
     "output_type": "stream",
     "text": [
      "Condition 1 :Q^T * Q = I verified: True\n",
      "Condition 2 :Q * R = A verified: True\n"
     ]
    }
   ],
   "source": [
    "# Verify the conditions\n",
    "\n",
    "# 1. Verify Q^T * Q = I\n",
    "I = np.eye(Q.shape[1])\n",
    "QTQ = np.dot(Q.T, Q)\n",
    "cond1 = np.allclose(QTQ, I)\n",
    "\n",
    "# 2. Verify Q * R ≈ A\n",
    "QR = np.dot(Q, R)\n",
    "cond2 = np.allclose(QR, A)  \n",
    "\n",
    "print(f\"Condition 1 :Q^T * Q = I verified: {cond1}\")\n",
    "print(f\"Condition 2 :Q * R = A verified: {cond2}\")"
   ]
  },
  {
   "cell_type": "markdown",
   "metadata": {},
   "source": []
  }
 ],
 "metadata": {
  "kernelspec": {
   "display_name": "Python 3",
   "language": "python",
   "name": "python3"
  },
  "language_info": {
   "codemirror_mode": {
    "name": "ipython",
    "version": 3
   },
   "file_extension": ".py",
   "mimetype": "text/x-python",
   "name": "python",
   "nbconvert_exporter": "python",
   "pygments_lexer": "ipython3",
   "version": "3.8.10"
  }
 },
 "nbformat": 4,
 "nbformat_minor": 2
}
