{
  "cells": [
    {
      "cell_type": "code",
      "execution_count": 33,
      "metadata": {
        "id": "3VT9TrxHoo0v"
      },
      "outputs": [],
      "source": [
        "import numpy as np\n",
        "import math"
      ]
    },
    {
      "cell_type": "code",
      "execution_count": 34,
      "metadata": {},
      "outputs": [],
      "source": [
        "# Function to compute the condition number with respect to 1-norm\n",
        "def condition_number_1_norm(matrix):\n",
        "    A=0\n",
        "    for i in range(len(matrix[0])):\n",
        "        abs_col_sum = 0\n",
        "        for j in range(len(matrix)):\n",
        "            abs_col_sum+=abs(matrix[j][i])\n",
        "        if abs(abs_col_sum) > A:\n",
        "            A = abs(abs_col_sum)\n",
        "    matrix=np.linalg.inv(matrix)\n",
        "    A_=0\n",
        "    for i in range(len(matrix[0])):\n",
        "        abs_col_sum = 0\n",
        "        for j in range(len(matrix)):\n",
        "            abs_col_sum+=abs(matrix[j][i])\n",
        "        if abs(abs_col_sum) > A_:\n",
        "            A_ = abs(abs_col_sum)\n",
        "    return abs(A)*abs(A_)\n",
        "    \n"
      ]
    },
    {
      "cell_type": "code",
      "execution_count": 35,
      "metadata": {},
      "outputs": [],
      "source": [
        "# Function to compute the condition number with respect to Frobenius norm\n",
        "def condition_number_frobenius(matrix):\n",
        "    A = 0\n",
        "    for x in matrix:\n",
        "        for y in x:\n",
        "            A += y**2\n",
        "    A=A**0.5\n",
        "    matrix=np.linalg.inv(matrix)\n",
        "    A_=0\n",
        "    for x in matrix:\n",
        "        for y in x:\n",
        "            A_ += y**2\n",
        "    A_=A_**0.5\n",
        "    return A*A_\n",
        "    "
      ]
    },
    {
      "cell_type": "code",
      "execution_count": 36,
      "metadata": {},
      "outputs": [],
      "source": [
        "# Function to compute the condition number with respect to Infinity norm\n",
        "def condition_number_infinity(matrix):\n",
        "    A = 0\n",
        "    for x in matrix:\n",
        "        abs_row_sum = 0\n",
        "        for y in x:\n",
        "            abs_row_sum += abs(y)\n",
        "\n",
        "        if abs_row_sum > A:\n",
        "            A = abs_row_sum\n",
        "    matrix=np.linalg.inv(matrix)\n",
        "    A_=0\n",
        "    for x in matrix:\n",
        "        abs_row_sum = 0\n",
        "        for y in x:\n",
        "            abs_row_sum += abs(y)\n",
        "\n",
        "        if abs_row_sum > A_:\n",
        "            A_ = abs_row_sum\n",
        "    return A*A_"
      ]
    },
    {
      "cell_type": "code",
      "execution_count": 37,
      "metadata": {},
      "outputs": [],
      "source": [
        "# Function to compute the condition number with respect to Spectral norm\n",
        "def condition_number_spectral(matrix):\n",
        "    ATA = np.matmul(np.transpose(matrix), matrix)\n",
        "    eig_val,eig_vect = np.linalg.eig(ATA)\n",
        "    eig_val = list([ abs(x) for x in eig_val])\n",
        "    A=max(eig_val) ** 0.5\n",
        "    matrix=np.linalg.inv(matrix)\n",
        "    ATA_ = np.matmul(np.transpose(matrix), matrix)\n",
        "    eig_val,eig_vect = np.linalg.eig(ATA_)\n",
        "    eig_val = list([ abs(x) for x in eig_val])\n",
        "    A_=max(eig_val) ** 0.5\n",
        "    return A*A_\n"
      ]
    },
    {
      "cell_type": "code",
      "execution_count": 39,
      "metadata": {},
      "outputs": [],
      "source": [
        "matrix1=np.array([[np.cos(np.pi/4), -np.sin(np.pi/4)],[np.sin(np.pi/4) ,np.cos(np.pi/4)]])\n",
        "matrix2 = np.array([[1,2,3],[4,5,6],[-15,6,9]])\n",
        "matrix3 = np.array([[2,1,0,0,0],[3,3,12,0,0],[0,4,-33,21,0],[0,0,12,0,23],[5,0,0,14,67]])\n"
      ]
    },
    {
      "cell_type": "code",
      "execution_count": 40,
      "metadata": {},
      "outputs": [
        {
          "name": "stdout",
          "output_type": "stream",
          "text": [
            "matrix 1\n",
            "1-norm condition number of matrix1: 2.0\n",
            "Frobenius norm condition number of matrix1: 2.0\n",
            "Infinity norm condition number of matrix1: 2.0\n",
            "Spectral norm condition number of matrix1: 0.9999999999999999\n",
            "matrix 2\n",
            "1-norm condition number of matrix2: 86.66666666666669\n",
            "Frobenius norm condition number of matrix2: 66.77047473469317\n",
            "Infinity norm condition number of matrix2: 103.33333333333336\n",
            "Spectral norm condition number of matrix2: 59.67368763274811\n",
            "matrix 3\n",
            "1-norm condition number of matrix3: 206.90938275207935\n",
            "Frobenius norm condition number of matrix3: 150.3104236691267\n",
            "Infinity norm condition number of matrix3: 237.09295199182836\n",
            "Spectral norm condition number of matrix3: 126.43946696485582\n"
          ]
        }
      ],
      "source": [
        "# Compute condition numbers\n",
        "print(\"matrix 1\")\n",
        "print(\"1-norm condition number of matrix1:\", condition_number_1_norm(matrix1))\n",
        "print(\"Frobenius norm condition number of matrix1:\", condition_number_frobenius(matrix1))\n",
        "print(\"Infinity norm condition number of matrix1:\", condition_number_infinity(matrix1))\n",
        "print(\"Spectral norm condition number of matrix1:\", condition_number_spectral(matrix1))\n",
        "print(\"matrix 2\")\n",
        "print(\"1-norm condition number of matrix2:\", condition_number_1_norm(matrix2))\n",
        "print(\"Frobenius norm condition number of matrix2:\", condition_number_frobenius(matrix2))\n",
        "print(\"Infinity norm condition number of matrix2:\", condition_number_infinity(matrix2))\n",
        "print(\"Spectral norm condition number of matrix2:\", condition_number_spectral(matrix2))\n",
        "print(\"matrix 3\")\n",
        "print(\"1-norm condition number of matrix3:\", condition_number_1_norm(matrix3))\n",
        "print(\"Frobenius norm condition number of matrix3:\", condition_number_frobenius(matrix3))\n",
        "print(\"Infinity norm condition number of matrix3:\", condition_number_infinity(matrix3))\n",
        "print(\"Spectral norm condition number of matrix3:\", condition_number_spectral(matrix3))"
      ]
    }
  ],
  "metadata": {
    "colab": {
      "provenance": []
    },
    "kernelspec": {
      "display_name": "Python 3",
      "name": "python3"
    },
    "language_info": {
      "codemirror_mode": {
        "name": "ipython",
        "version": 3
      },
      "file_extension": ".py",
      "mimetype": "text/x-python",
      "name": "python",
      "nbconvert_exporter": "python",
      "pygments_lexer": "ipython3",
      "version": "3.8.10"
    }
  },
  "nbformat": 4,
  "nbformat_minor": 0
}
