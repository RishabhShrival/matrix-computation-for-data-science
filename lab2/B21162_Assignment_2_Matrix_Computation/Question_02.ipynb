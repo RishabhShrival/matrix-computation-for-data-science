{
  "nbformat": 4,
  "nbformat_minor": 0,
  "metadata": {
    "colab": {
      "provenance": []
    },
    "kernelspec": {
      "name": "python3",
      "display_name": "Python 3"
    },
    "language_info": {
      "name": "python"
    }
  },
  "cells": [
    {
      "cell_type": "code",
      "source": [
        "from decimal import Decimal\n",
        "\n",
        "def perform_operations(x, y):\n",
        "    # Addition using float\n",
        "    float_sum = float(x) + float(y)\n",
        "\n",
        "    # Addition using Decimal\n",
        "    decimal_sum = Decimal(x) + Decimal(y)\n",
        "\n",
        "    # Multiplication using float\n",
        "    float_product = float(x) * float(y)\n",
        "\n",
        "    # Multiplication using Decimal\n",
        "    decimal_product = Decimal(x) * Decimal(y)\n",
        "\n",
        "    # Division using float\n",
        "    float_division = float(x) / float(y)\n",
        "\n",
        "    # Division using Decimal\n",
        "    decimal_division = Decimal(x) / Decimal(y)\n",
        "\n",
        "    # Display results\n",
        "    print(\"Addition (float):\", float_sum)\n",
        "    print(\"Addition (Decimal):\", decimal_sum)\n",
        "    print()\n",
        "    print(\"Multiplication (float):\", float_product)\n",
        "    print(\"Multiplication (Decimal):\", decimal_product)\n",
        "    print()\n",
        "    print(\"Division (float):\", float_division)\n",
        "    print(\"Division (Decimal):\", decimal_division)\n",
        "\n",
        "# Example usage\n",
        "x = input(\"Enter a numerical value for x: \")\n",
        "y = input(\"Enter a numerical value for y: \")\n",
        "\n",
        "perform_operations(x, y)"
      ],
      "metadata": {
        "colab": {
          "base_uri": "https://localhost:8080/"
        },
        "id": "JXk-XoG3wgXs",
        "outputId": "ed000b47-6a2c-4616-dd72-a8618836b33b"
      },
      "execution_count": 9,
      "outputs": [
        {
          "output_type": "stream",
          "name": "stdout",
          "text": [
            "Enter a numerical value for x: 0.2\n",
            "Enter a numerical value for y: 0.4\n",
            "Addition (float): 0.6000000000000001\n",
            "Addition (Decimal): 0.6\n",
            "\n",
            "Multiplication (float): 0.08000000000000002\n",
            "Multiplication (Decimal): 0.08\n",
            "\n",
            "Division (float): 0.5\n",
            "Division (Decimal): 0.5\n"
          ]
        }
      ]
    },
    {
      "cell_type": "markdown",
      "source": [
        "The choice of data type depends on the requirements and characteristics of the specific application:\n",
        "\n",
        "Float: Float data type is suitable for general-purpose programming and scientific calculations where high precision is not critical. It is faster and requires less memory compared to Decimal. However, float can introduce rounding errors and loss of precision, making it unsuitable for financial applications that require exact decimal representation.\n",
        "\n",
        "Decimal: Decimal data type is suitable for financial applications, where exact decimal representation and high precision are crucial. It provides precise decimal arithmetic and avoids rounding errors. Decimal is slower and requires more memory compared to float, but it ensures accuracy in calculations involving money, currency, or any application requiring precise decimal calculations."
      ],
      "metadata": {
        "id": "HpOF6kstxL21"
      }
    },
    {
      "cell_type": "code",
      "source": [
        "if 0.1+0.1+0.1==0.3:\n",
        "  print(True)\n",
        "else:\n",
        "  print(False)"
      ],
      "metadata": {
        "colab": {
          "base_uri": "https://localhost:8080/"
        },
        "id": "GiDaMLHzxXza",
        "outputId": "55cfabbb-904c-46b3-fb7d-bacc8d4981d1"
      },
      "execution_count": 10,
      "outputs": [
        {
          "output_type": "stream",
          "name": "stdout",
          "text": [
            "False\n"
          ]
        }
      ]
    },
    {
      "cell_type": "markdown",
      "source": [
        "The output of the code snippet 0.1 + 0.1 + 0.1 == 0.3 in Python will be False. This is because floating-point numbers in Python are represented using binary fractions, and certain decimal values cannot be represented exactly in binary. Therefore, there can be small rounding errors in floating-point calculations. In this case, the sum of 0.1 + 0.1 + 0.1 is slightly different from 0.3, resulting in False when comparing the two values. To compare floating-point numbers for equality, it is recommended to use appropriate tolerance or rounding techniques."
      ],
      "metadata": {
        "id": "lJgR57_ZxXWw"
      }
    }
  ]
}